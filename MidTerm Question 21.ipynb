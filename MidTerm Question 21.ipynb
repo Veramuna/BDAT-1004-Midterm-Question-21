{
 "cells": [
  {
   "cell_type": "markdown",
   "id": "dc9cc83f-4a1e-4235-b35a-8a112db17190",
   "metadata": {},
   "source": [
    "# Question 21"
   ]
  },
  {
   "cell_type": "code",
   "execution_count": 4,
   "id": "8deb52d0-11d9-4ab3-bb88-57aa373ae230",
   "metadata": {},
   "outputs": [
    {
     "data": {
      "text/plain": [
       "(5.0, 1.3333333333333333)"
      ]
     },
     "execution_count": 4,
     "metadata": {},
     "output_type": "execute_result"
    }
   ],
   "source": [
    "# Let's define the classes Point and Segment as described in the problem statement.\n",
    "\n",
    "import math\n",
    "\n",
    "class Point:\n",
    "    def __init__(self, x=0, y=0):\n",
    "        self.x = x\n",
    "        self.y = y\n",
    "\n",
    "class Segment:\n",
    "    def __init__(self, point1, point2):\n",
    "        self.point1 = point1\n",
    "        self.point2 = point2\n",
    "\n",
    "    def length(self):\n",
    "        \n",
    "        return math.sqrt((self.point2.x - self.point1.x) ** 2 + (self.point2.y - self.point1.y) ** 2)\n",
    "\n",
    "    def slope(self):\n",
    "        \n",
    "        if self.point2.x - self.point1.x == 0:  # Check for vertical line (unbounded slope)\n",
    "            return None\n",
    "        else:\n",
    "            return (self.point2.y - self.point1.y) / (self.point2.x - self.point1.x)\n",
    "\n",
    "\n",
    "p1 = Point(3, 4)\n",
    "p2 = Point(0, 0)  # Creating a Point at the origin for testing\n",
    "s = Segment(p1, p2)\n",
    "\n",
    "length = s.length()\n",
    "slope = s.slope()\n",
    "\n",
    "length, slope"
   ]
  },
  {
   "cell_type": "code",
   "execution_count": null,
   "id": "ebb9d309-f318-48cc-8c2b-e2c85ae65fd9",
   "metadata": {},
   "outputs": [],
   "source": []
  }
 ],
 "metadata": {
  "kernelspec": {
   "display_name": "Python 3 (ipykernel)",
   "language": "python",
   "name": "python3"
  },
  "language_info": {
   "codemirror_mode": {
    "name": "ipython",
    "version": 3
   },
   "file_extension": ".py",
   "mimetype": "text/x-python",
   "name": "python",
   "nbconvert_exporter": "python",
   "pygments_lexer": "ipython3",
   "version": "3.12.4"
  }
 },
 "nbformat": 4,
 "nbformat_minor": 5
}
